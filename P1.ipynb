{
 "cells": [
  {
   "cell_type": "markdown",
   "metadata": {},
   "source": [
    "# Self-Driving Car Engineer Nanodegree\n",
    "\n",
    "\n",
    "## Project: **Finding Lane Lines on the Road** \n",
    "***\n",
    "In this project, you will use the tools you learned about in the lesson to identify lane lines on the road.  You can develop your pipeline on a series of individual images, and later apply the result to a video stream (really just a series of images). Check out the video clip \"raw-lines-example.mp4\" (also contained in this repository) to see what the output should look like after using the helper functions below. \n",
    "\n",
    "Once you have a result that looks roughly like \"raw-lines-example.mp4\", you'll need to get creative and try to average and/or extrapolate the line segments you've detected to map out the full extent of the lane lines.  You can see an example of the result you're going for in the video \"P1_example.mp4\".  Ultimately, you would like to draw just one line for the left side of the lane, and one for the right.\n",
    "\n",
    "In addition to implementing code, there is a brief writeup to complete. The writeup should be completed in a separate file, which can be either a markdown file or a pdf document. There is a [write up template](https://github.com/udacity/CarND-LaneLines-P1/blob/master/writeup_template.md) that can be used to guide the writing process. Completing both the code in the Ipython notebook and the writeup template will cover all of the [rubric points](https://review.udacity.com/#!/rubrics/322/view) for this project.\n",
    "\n",
    "---\n",
    "Let's have a look at our first image called 'test_images/solidWhiteRight.jpg'.  Run the 2 cells below (hit Shift-Enter or the \"play\" button above) to display the image.\n",
    "\n",
    "**Note: If, at any point, you encounter frozen display windows or other confounding issues, you can always start again with a clean slate by going to the \"Kernel\" menu above and selecting \"Restart & Clear Output\".**\n",
    "\n",
    "---"
   ]
  },
  {
   "cell_type": "markdown",
   "metadata": {},
   "source": [
    "**The tools you have are color selection, region of interest selection, grayscaling, Gaussian smoothing, Canny Edge Detection and Hough Tranform line detection.  You  are also free to explore and try other techniques that were not presented in the lesson.  Your goal is piece together a pipeline to detect the line segments in the image, then average/extrapolate them and draw them onto the image for display (as below).  Once you have a working pipeline, try it out on the video stream below.**\n",
    "\n",
    "---\n",
    "\n",
    "<figure>\n",
    " <img src=\"examples/line-segments-example.jpg\" width=\"380\" alt=\"Combined Image\" />\n",
    " <figcaption>\n",
    " <p></p> \n",
    " <p style=\"text-align: center;\"> Your output should look something like this (above) after detecting line segments using the helper functions below </p> \n",
    " </figcaption>\n",
    "</figure>\n",
    " <p></p> \n",
    "<figure>\n",
    " <img src=\"examples/laneLines_thirdPass.jpg\" width=\"380\" alt=\"Combined Image\" />\n",
    " <figcaption>\n",
    " <p></p> \n",
    " <p style=\"text-align: center;\"> Your goal is to connect/average/extrapolate line segments to get output like this</p> \n",
    " </figcaption>\n",
    "</figure>"
   ]
  },
  {
   "cell_type": "markdown",
   "metadata": {},
   "source": [
    "**Run the cell below to import some packages.  If you get an `import error` for a package you've already installed, try changing your kernel (select the Kernel menu above --> Change Kernel).  Still have problems?  Try relaunching Jupyter Notebook from the terminal prompt.  Also, consult the forums for more troubleshooting tips.**  "
   ]
  },
  {
   "cell_type": "markdown",
   "metadata": {},
   "source": [
    "## Import Packages"
   ]
  },
  {
   "cell_type": "code",
   "execution_count": 1,
   "metadata": {},
   "outputs": [],
   "source": [
    "#import some useful packages\n",
    "import matplotlib.pyplot as plt\n",
    "import matplotlib.image as mpimg\n",
    "import numpy as np\n",
    "import cv2\n",
    "import collections\n",
    "import math\n",
    "import os\n",
    "from moviepy.editor import VideoFileClip\n",
    "from IPython.display import HTML\n",
    "import imageio\n",
    "imageio.plugins.ffmpeg.download()\n",
    "# show output in notebook\n",
    "%matplotlib inline\n",
    "# toggle automatic pdb\n",
    "#%pdb"
   ]
  },
  {
   "cell_type": "markdown",
   "metadata": {},
   "source": [
    "## Helper Functions"
   ]
  },
  {
   "cell_type": "code",
   "execution_count": 2,
   "metadata": {},
   "outputs": [],
   "source": [
    "# Lane finder helper functions\n",
    "\n",
    "def getImage(imageName):\n",
    "    \"\"\"Read image from file.\"\"\"\n",
    "    imageIn = mpimg.imread(imageName)\n",
    "\n",
    "    #print out some stats\n",
    "    print(\"'\"+imageName+\"'\", 'is:', type(imageIn), 'with dimensions:', imageIn.shape)\n",
    "    return imageIn\n",
    "\n",
    "def saveImage(imageOut, fileName, cmapOut='gray'):\n",
    "    \"\"\"Write image to file.\"\"\"\n",
    "    mpimg.imsave(fileName, imageOut, cmap=cmapOut)\n",
    "    absName = os.path.abspath('./'+fileName)\n",
    "    print('Image saved as', absName)\n",
    "    return absName\n",
    "\n",
    "def showImage(imageIn):\n",
    "    \"\"\"Render image to screen.\"\"\"\n",
    "    plt.imshow(imageIn)  # if you wanted to show a single color channel image called 'gray', for example, call as plt.imshow(gray, cmap='gray')\n",
    "\n",
    "def grayscale(img):\n",
    "    \"\"\"Applies the Grayscale transform\n",
    "    This will return an image with only one color channel\n",
    "    but NOTE: to see the returned image as grayscale\n",
    "    (assuming your grayscaled image is called 'gray')\n",
    "    you should call plt.imshow(gray, cmap='gray')\n",
    "    \"\"\"\n",
    "    return cv2.cvtColor(img, cv2.COLOR_RGB2GRAY)\n",
    "    # Or use BGR2GRAY if you read an image with cv2.imread()\n",
    "    # return cv2.cvtColor(img, cv2.COLOR_BGR2GRAY)\n",
    "    \n",
    "def canny(img, low_threshold, high_threshold):\n",
    "    \"\"\"Applies the Canny transform\"\"\"\n",
    "    return cv2.Canny(img, low_threshold, high_threshold)\n",
    "\n",
    "def gaussian_blur(img, kernel_size):\n",
    "    \"\"\"Applies a Gaussian Noise kernel\"\"\"\n",
    "    return cv2.GaussianBlur(img, (kernel_size, kernel_size), 0)\n",
    "\n",
    "def region_of_interest(img, vertices):\n",
    "    \"\"\"Applies an image mask.\n",
    "    \n",
    "    Only keeps the region of the image defined by the polygon\n",
    "    formed from `vertices`. The rest of the image is set to black.\n",
    "    \"\"\"\n",
    "\n",
    "    #defining a blank mask to start with\n",
    "    mask = np.zeros_like(img)   \n",
    "    \n",
    "    #defining a 3 channel or 1 channel color to fill the mask with depending on the input image\n",
    "    if len(img.shape) > 2:\n",
    "        channel_count = img.shape[2]  # i.e. 3 or 4 depending on your image\n",
    "        ignore_mask_color = (255,) * channel_count\n",
    "    else:\n",
    "        ignore_mask_color = 255\n",
    "        \n",
    "    #filling pixels inside the polygon defined by \"vertices\" with the fill color    \n",
    "    cv2.fillPoly(mask, vertices, ignore_mask_color)\n",
    "    \n",
    "    #returning the image only where mask pixels are nonzero\n",
    "    masked_image = cv2.bitwise_and(img, mask)\n",
    "    return masked_image\n",
    "\n",
    "\n",
    "def clearHistoryCache():\n",
    "    \"\"\"Create and clear cache for inter-frame comparisons.\"\"\"\n",
    "    \n",
    "    global slopeHistoryLeft\n",
    "    global interceptHistoryLeft\n",
    "    global slopeHistoryRight\n",
    "    global interceptHistoryRight\n",
    "\n",
    "    slopeHistoryLeft = collections.deque()\n",
    "    interceptHistoryLeft = collections.deque()\n",
    "    slopeHistoryRight = collections.deque()\n",
    "    interceptHistoryRight = collections.deque()\n",
    "    \n",
    "    global mbLeftHist\n",
    "    mbLeftHist = [collections.deque(), collections.deque()]\n",
    "    global mbRightHist\n",
    "    mbRightHist = [collections.deque(), collections.deque()]\n",
    "    \n",
    "def drawLanes(img, lines, color=[255, 0, 0], yTop=0, yBot=-1):\n",
    "    \"\"\"Draw interpolated lane lines onto blank image\n",
    "    \n",
    "    `img` should be edges\n",
    "    `lines` should be output from `hough_lines`\n",
    "    \"\"\"\n",
    "    \n",
    "    if DEBUGGING:\n",
    "        # overlay region-of-interest\n",
    "        cv2.polylines(img, roi, isClosed=True, color=(0,255,0), thickness=1)\n",
    "    ### DEBUGGING\n",
    "    \n",
    "    # make sure some hough lines were found\n",
    "    if lines is None:\n",
    "        return\n",
    "    \n",
    "    # default value\n",
    "    if (yBot < 0):\n",
    "        yBot = img.shape[0]\n",
    "\n",
    "\n",
    "    # work in a right hand coordinate system where x' == image y and y' == image x\n",
    "    yp1, xp1 = lines[...,0].astype(float, casting='same_kind'), lines[...,1].astype(float, casting='same_kind')\n",
    "    yp2, xp2 = lines[...,2].astype(float, casting='same_kind'), lines[...,3].astype(float, casting='same_kind')\n",
    "    \n",
    "    # find slope and intercept for all line segments\n",
    "    mp = (yp2-yp1)/(xp2-xp1)\n",
    "    bp = yp1 - mp * xp1\n",
    "    \n",
    "    if DEBUGGING:\n",
    "        drawRawLines(img, lines, [0, 255, 255])\n",
    "    ### DEBUGGING\n",
    "\n",
    "    # separate into left and right by slope, get rid of outliers, smooth between frames\n",
    "    left = np.all([(mp < 0), (mp > -slopeThresh)], axis=0)\n",
    "    if np.any(left):\n",
    "        slopeHistoryLeft.append(np.mean(mp[left]))\n",
    "        interceptHistoryLeft.append(np.mean(bp[left]))\n",
    "        if len(slopeHistoryLeft) > maxHistory:\n",
    "            slopeHistoryLeft.popleft\n",
    "            interceptHistoryLeft.popleft\n",
    "    else:\n",
    "        if len(slopeHistoryLeft) == 0:\n",
    "            return\n",
    "\n",
    "    slopeLeft = np.mean(slopeHistoryLeft)\n",
    "    interceptLeft = np.mean(interceptHistoryLeft)\n",
    "    drawOneLine(img, slopeLeft, interceptLeft, yTop, yBot, color=leftLineColor)\n",
    "\n",
    "    right = np.all([(mp > 0), (mp < slopeThresh)], axis=0)\n",
    "    if np.any(right):\n",
    "        slopeHistoryRight.append(np.mean(mp[right]))\n",
    "        interceptHistoryRight.append(np.mean(bp[right]))\n",
    "        if len(slopeHistoryRight) > maxHistory:\n",
    "            slopeHistoryRight.popleft\n",
    "            interceptHistoryRight.popleft\n",
    "    else:\n",
    "        if len(slopeHistoryRight) == 0:\n",
    "            return\n",
    "        \n",
    "    slopeRight = np.mean(slopeHistoryRight)\n",
    "    interceptRight = np.mean(interceptHistoryRight)\n",
    "    drawOneLine(img, slopeRight, interceptRight, yTop, yBot, color=rightLineColor)\n",
    "        \n",
    "def drawOneLine(img, slope, intercept, yTop=0, yBot=-1, color=[255, 0, 0], thickness=4):\n",
    "    \"\"\"Extrapolate top to bottom of region of interest.\"\"\"\n",
    "    \n",
    "    if (yBot < 0):\n",
    "        yBot = img.shape[0]\n",
    "    \n",
    "    xBot = int(slope * yBot + intercept)\n",
    "    xTop = int(slope * yTop + intercept)\n",
    "    cv2.line(img, (xTop, yTop), (xBot, yBot), color, thickness)\n",
    "    \n",
    "def drawRawLines(img, lines, color=[255,0,0], thickness=2):\n",
    "    \"\"\"Output of `hough_lines`\"\"\"\n",
    "\n",
    "    for line in lines:\n",
    "        for x1,y1,x2,y2 in line:\n",
    "            cv2.line(img, (x1, y1), (x2, y2), color, thickness)\n",
    "\n",
    "def hough_lines(img, rho, theta, threshold, min_line_len, max_line_gap, yTop_, yBot_):\n",
    "    \"\"\"Returns an image with lane lines drawn from top to bottom.\n",
    "\n",
    "    `img` should be the output of a Canny transform.\n",
    "    \"\"\"\n",
    "  \n",
    "    lines = cv2.HoughLinesP(img, rho, theta, threshold, np.array([]), minLineLength=min_line_len, maxLineGap=max_line_gap)\n",
    "    line_img = np.zeros((img.shape[0], img.shape[1], 3), dtype=np.uint8)\n",
    "    drawLanes(line_img, lines, yTop=yTop_, yBot=yBot_)\n",
    "    return line_img\n",
    "\n",
    "# Python 3 has support for cool math symbols.\n",
    "\n",
    "def addOverlay(overlay, initial_img):\n",
    "    \"\"\"Combine image with overlay\n",
    "    \n",
    "    `overlay` is the output of the hough_lines().\n",
    "    Should be a blank image (all black) with lines drawn on it.\n",
    "    \n",
    "    `initial_img` should be the color image before any processing.\n",
    "    \n",
    "    NOTE: initial_img and overlay must be the same shape!\n",
    "    \"\"\"    \n",
    "    # The result image is computed as follows:\n",
    "    #initial_img * α + img * β + λ\n",
    "    α, β, λ = 1.0, 0.8, 0.0\n",
    "    return cv2.addWeighted(initial_img, α, overlay, β, λ)\n",
    "\n",
    "def setSlopeThresh(minAngle_degrees=None):\n",
    "    \"\"\"Set slope threshold either with `minAngle or calculate from `roi`\n",
    "    \n",
    "    `minAngle_degrees` is absolute angle from horizontal 0 to 90\n",
    "    `slopeThreshold` can be calculated from bottom-left corner of roi\n",
    "    to a point at the top-center of roi (theoretical) horizon\n",
    "    \"\"\"\n",
    "    \n",
    "    global roi, slopeThresh\n",
    "    if minAngle_degrees is None:\n",
    "        yp1, xp1 = np.min(roi[...,0]), np.max(roi[...,1])\n",
    "        yp2, xp2 = np.mean(roi[...,0]), np.min(roi[...,1])\n",
    "        slopeThresh = math.fabs((yp2 - yp1) / (xp2 - xp1))\n",
    "    else:\n",
    "        slopeThresh = math.tan(math.radians(90 - minAngle_degrees))\n"
   ]
  },
  {
   "cell_type": "markdown",
   "metadata": {},
   "source": [
    "## Set algorithm tuning parameters"
   ]
  },
  {
   "cell_type": "code",
   "execution_count": 3,
   "metadata": {},
   "outputs": [],
   "source": [
    "# algorithm params for single image tests\n",
    "\n",
    "# region of interest in sensor fov (area in front of car to look for lane lines)\n",
    "roi = np.array([[[100,540],[430,360],[540,360],[920,540]]])\n",
    "\n",
    "# top and botton image y coord for extrapolated lines\n",
    "yTop, yBot = min(roi[0,:,1]), max(roi[0,:,1])\n",
    "\n",
    "# lines marking left side of lane\n",
    "leftLineColor = [0, 0, 255]\n",
    "\n",
    "# lines marking right side of lane\n",
    "rightLineColor = [255, 0, 0]\n",
    "\n",
    "# Gaussian kernel size\n",
    "smoothFactor = 7\n",
    "\n",
    "# Canny edge parameters\n",
    "lowThresh, highTresh = 100, 200\n",
    "\n",
    "# hough rho bin size\n",
    "rhoStep_pixels = 2\n",
    "\n",
    "# hough theta bin size\n",
    "thetaStep_degrees = np.pi/180\n",
    "\n",
    "# bin count threshold\n",
    "houghThresh = 30\n",
    "\n",
    "# length between hough line end points for same line\n",
    "minLineLength = 8\n",
    "\n",
    "# gap between hough line end points to make separate lines\n",
    "maxLineGap = 40\n",
    "\n",
    "# minimum absolute angle of lane line from horizontal (0 to 90)\n",
    "#setSlopeThresh(minAngle=30)\n",
    "setSlopeThresh()\n",
    "\n",
    "# number of frames to average\n",
    "global maxHistory\n",
    "maxHistory = 1\n",
    "\n"
   ]
  },
  {
   "cell_type": "markdown",
   "metadata": {},
   "source": [
    "## Build a Lane Finding Pipeline\n",
    "\n"
   ]
  },
  {
   "cell_type": "code",
   "execution_count": 4,
   "metadata": {},
   "outputs": [],
   "source": [
    "def findLane(colorImage):\n",
    "    \"\"\"Given a color image looking straigth forward,\n",
    "    find and overlay the lane the car is currently in\n",
    "    \"\"\"\n",
    "    \n",
    "    edgeImage = canny(gaussian_blur(grayscale(colorImage), smoothFactor), lowThresh, highTresh)\n",
    "    edgeCropped = region_of_interest(edgeImage, roi)\n",
    "    linesImage= hough_lines(edgeCropped, rhoStep_pixels, thetaStep_degrees, houghThresh, minLineLength, maxLineGap, yTop, yBot)\n",
    "    laneImage = addOverlay(linesImage, colorImage)\n",
    "    return laneImage"
   ]
  },
  {
   "cell_type": "code",
   "execution_count": 5,
   "metadata": {},
   "outputs": [
    {
     "name": "stdout",
     "output_type": "stream",
     "text": [
      "'test_images/whiteCarLaneSwitch.jpg' is: <class 'numpy.ndarray'> with dimensions: (540, 960, 3)\n",
      "Image saved as /Users/ken/Dropbox/A_Udacity/CarND-LaneLines-P1/output_test_images/whiteCarLaneSwitchLane.png\n"
     ]
    },
    {
     "data": {
      "image/png": "[encoded data removed]",
      "text/plain": [
       "<matplotlib.figure.Figure at 0x113a986a0>"
      ]
     },
     "metadata": {},
     "output_type": "display_data"
    }
   ],
   "source": [
    "global DEBUGGING\n",
    "DEBUGGING = True\n",
    "\n",
    "def testSingleImage(inName):\n",
    "    \"\"\"Process single image\"\"\"\n",
    "\n",
    "    clearHistoryCache()\n",
    "\n",
    "    # read image, find lane, write to file.\n",
    "    testImage = getImage(inName)\n",
    "    testLane = findLane(testImage)\n",
    "    showImage(testLane)\n",
    "    outName, ext = os.path.splitext(os.path.basename(inName))\n",
    "    outName = 'output_test_images/'+outName+'Lane.png'\n",
    "    saveImage(testLane, outName)\n",
    "\n",
    "testSingleImage('test_images/whiteCarLaneSwitch.jpg') \n"
   ]
  },
  {
   "cell_type": "code",
   "execution_count": null,
   "metadata": {
    "scrolled": false
   },
   "outputs": [],
   "source": [
    "# process everything in test dir\n",
    "global DEBUGGING\n",
    "DEBUGGING = True\n",
    "testDirName = 'test_images/'\n",
    "for inName in os.listdir(testDirName):\n",
    "    print('Processing...')\n",
    "    inName = os.path.abspath(testDirName+inName)\n",
    "    testSingleImage(inName)\n"
   ]
  },
  {
   "cell_type": "markdown",
   "metadata": {},
   "source": [
    "## Test on Videos\n",
    "\n",
    "You know what's cooler than drawing lanes over images? Drawing lanes over video!\n",
    "\n",
    "We can test our solution on two provided videos:\n",
    "\n",
    "`solidWhiteRight.mp4`\n",
    "\n",
    "`solidYellowLeft.mp4`\n",
    "\n",
    "**Note: if you get an import error when you run the next cell, try changing your kernel (select the Kernel menu above --> Change Kernel). Still have problems? Try relaunching Jupyter Notebook from the terminal prompt. Also, consult the forums for more troubleshooting tips.**\n",
    "\n",
    "**If you get an error that looks like this:**\n",
    "```\n",
    "NeedDownloadError: Need ffmpeg exe. \n",
    "You can download it by calling: \n",
    "imageio.plugins.ffmpeg.download()\n",
    "```\n",
    "**Follow the instructions in the error message and check out [this forum post](https://discussions.udacity.com/t/project-error-of-test-on-videos/274082) for more troubleshooting tips across operating systems.**"
   ]
  },
  {
   "cell_type": "markdown",
   "metadata": {},
   "source": [
    "Let's try the one with the solid white lane on the right first ..."
   ]
  },
  {
   "cell_type": "code",
   "execution_count": 6,
   "metadata": {},
   "outputs": [],
   "source": [
    "# algorithm params for solidWhiteRight.mp4\n",
    "\n",
    "roi = np.array([[[100,530],[430,330],[540,330],[920,530]]])\n",
    "yTop, yBot = min(roi[0,:,1]), max(roi[0,:,1])\n",
    "leftLineColor = [255, 0, 0]\n",
    "rightLineColor = [255, 0, 0]\n",
    "smoothFactor = 7\n",
    "lowThresh, highTresh = 100, 200\n",
    "rhoStep_pixels = 2\n",
    "thetaStep_degrees = np.pi/180\n",
    "houghThresh = 30\n",
    "minLineLength = 8\n",
    "maxLineGap = 40\n",
    "setSlopeThresh(minAngle_degrees=30)\n",
    "global maxHistory\n",
    "maxHistory = 15"
   ]
  },
  {
   "cell_type": "code",
   "execution_count": 7,
   "metadata": {},
   "outputs": [
    {
     "name": "stdout",
     "output_type": "stream",
     "text": [
      "[MoviePy] >>>> Building video test_videos_output/solidWhiteRight.mp4\n",
      "[MoviePy] Writing video test_videos_output/solidWhiteRight.mp4\n"
     ]
    },
    {
     "name": "stderr",
     "output_type": "stream",
     "text": [
      "100%|█████████▉| 221/222 [00:07<00:00, 28.64it/s]\n"
     ]
    },
    {
     "name": "stdout",
     "output_type": "stream",
     "text": [
      "[MoviePy] Done.\n",
      "[MoviePy] >>>> Video ready: test_videos_output/solidWhiteRight.mp4 \n",
      "\n",
      "CPU times: user 3.25 s, sys: 356 ms, total: 3.6 s\n",
      "Wall time: 8.81 s\n"
     ]
    }
   ],
   "source": [
    "white_output = 'test_videos_output/solidWhiteRight.mp4'\n",
    "global DEBUGGING\n",
    "DEBUGGING = False\n",
    "## To speed up the testing process you may want to try your pipeline on a shorter subclip of the video\n",
    "## To do so add .subclip(start_second,end_second) to the end of the line clip1 = ...\n",
    "## Where start_second and end_second are integer values representing the start and end of the subclip\n",
    "## You may also uncomment the following line for a subclip of the first 5 seconds\n",
    "#clip1 = VideoFileClip(\"test_videos/solidWhiteRight.mp4\").subclip(0,5)\n",
    "clip1 = VideoFileClip(\"test_videos/solidWhiteRight.mp4\")\n",
    "clearHistoryCache()\n",
    "white_clip = clip1.fl_image(findLane) #NOTE: this function expects color images!!\n",
    "%time white_clip.write_videofile(white_output, audio=False)"
   ]
  },
  {
   "cell_type": "markdown",
   "metadata": {},
   "source": [
    "Play the video inline, or if you prefer find the video in your filesystem (should be in the same directory) and play it in your video player of choice."
   ]
  },
  {
   "cell_type": "code",
   "execution_count": null,
   "metadata": {},
   "outputs": [],
   "source": [
    "HTML(\"\"\"\n",
    "<video width=\"960\" height=\"540\" controls>\n",
    "  <source src=\"{0}\">\n",
    "</video>\n",
    "\"\"\".format(white_output))"
   ]
  },
  {
   "cell_type": "markdown",
   "metadata": {},
   "source": [
    "Now for the one with the solid yellow lane on the left. This one's more tricky!"
   ]
  },
  {
   "cell_type": "code",
   "execution_count": null,
   "metadata": {},
   "outputs": [],
   "source": [
    "# algorithm params for solidYellowLeft.mp4\n",
    "\n",
    "roi = np.array([[[100,530],[430,330],[540,330],[920,530]]])\n",
    "yTop, yBot = min(roi[0,:,1]), max(roi[0,:,1])\n",
    "leftLineColor = [255, 0, 0]\n",
    "rightLineColor = [255, 0, 0]\n",
    "smoothFactor = 7\n",
    "lowThresh, highTresh = 100, 200\n",
    "rhoStep_pixels = 2\n",
    "thetaStep_degrees = np.pi/180\n",
    "houghThresh = 30\n",
    "minLineLength = 8\n",
    "maxLineGap = 40\n",
    "setSlopeThresh()\n",
    "global maxHistory\n",
    "maxHistory = 7"
   ]
  },
  {
   "cell_type": "code",
   "execution_count": null,
   "metadata": {},
   "outputs": [],
   "source": [
    "global DEBUGGING\n",
    "DEBUGGING = False\n",
    "yellow_output = 'test_videos_output/solidYellowLeft.mp4'\n",
    "##clip2 = VideoFileClip('test_videos/solidYellowLeft.mp4').subclip(0,5)\n",
    "clip2 = VideoFileClip('test_videos/solidYellowLeft.mp4')\n",
    "clearHistoryCache()\n",
    "yellow_clip = clip2.fl_image(findLane)\n",
    "%time yellow_clip.write_videofile(yellow_output, audio=False)"
   ]
  },
  {
   "cell_type": "code",
   "execution_count": null,
   "metadata": {},
   "outputs": [],
   "source": [
    "HTML(\"\"\"\n",
    "<video width=\"960\" height=\"540\" controls>\n",
    "  <source src=\"{0}\">\n",
    "</video>\n",
    "\"\"\".format(yellow_output))"
   ]
  },
  {
   "cell_type": "markdown",
   "metadata": {
    "collapsed": true
   },
   "source": [
    "## Optional Challenge"
   ]
  },
  {
   "cell_type": "code",
   "execution_count": 8,
   "metadata": {},
   "outputs": [],
   "source": [
    "# algorithm params for challenge.mp4\n",
    "\n",
    "#roi = np.array([[[220,690],[480,520],[860,520],[1150,690]]])\n",
    "roi = np.array([[[100,700],[500,450],[800,450],[1200,700]]])\n",
    "yTop, yBot = min(roi[0,:,1]), max(roi[0,:,1])\n",
    "leftLineColor = [255, 0, 0]\n",
    "rightLineColor = [255, 0, 0]\n",
    "smoothFactor = 7\n",
    "lowThresh, highTresh = 100, 200\n",
    "rhoStep_pixels = 2\n",
    "thetaStep_degrees = np.pi/180\n",
    "houghThresh = 30\n",
    "minLineLength = 8\n",
    "maxLineGap = 40\n",
    "setSlopeThresh()\n",
    "global maxHistory\n",
    "maxHistory = 15\n",
    "\n",
    "global DEBUGGING\n",
    "DEBUGGING = False"
   ]
  },
  {
   "cell_type": "code",
   "execution_count": 9,
   "metadata": {},
   "outputs": [
    {
     "name": "stdout",
     "output_type": "stream",
     "text": [
      "[MoviePy] >>>> Building video test_videos_output/challenge.mp4\n",
      "[MoviePy] Writing video test_videos_output/challenge.mp4\n"
     ]
    },
    {
     "name": "stderr",
     "output_type": "stream",
     "text": [
      "100%|██████████| 251/251 [00:17<00:00, 13.86it/s]\n"
     ]
    },
    {
     "name": "stdout",
     "output_type": "stream",
     "text": [
      "[MoviePy] Done.\n",
      "[MoviePy] >>>> Video ready: test_videos_output/challenge.mp4 \n",
      "\n",
      "CPU times: user 6.31 s, sys: 1.55 s, total: 7.85 s\n",
      "Wall time: 19.4 s\n"
     ]
    }
   ],
   "source": [
    "challenge_output = 'test_videos_output/challenge.mp4'\n",
    "##clip3 = VideoFileClip('test_videos/challenge.mp4').subclip(0,5)\n",
    "clip3 = VideoFileClip('test_videos/challenge.mp4')\n",
    "clearHistoryCache()\n",
    "challenge_clip = clip3.fl_image(findLane)\n",
    "%time challenge_clip.write_videofile(challenge_output, audio=False)"
   ]
  },
  {
   "cell_type": "code",
   "execution_count": 10,
   "metadata": {},
   "outputs": [
    {
     "data": {
      "text/html": [
       "\n",
       "<video width=\"960\" height=\"540\" controls>\n",
       "  <source src=\"test_videos_output/challenge.mp4\">\n",
       "</video>\n"
      ],
      "text/plain": [
       "<IPython.core.display.HTML object>"
      ]
     },
     "execution_count": 10,
     "metadata": {},
     "output_type": "execute_result"
    }
   ],
   "source": [
    "HTML(\"\"\"\n",
    "<video width=\"960\" height=\"540\" controls>\n",
    "  <source src=\"{0}\">\n",
    "</video>\n",
    "\"\"\".format(challenge_output))"
   ]
  },
  {
   "cell_type": "code",
   "execution_count": null,
   "metadata": {},
   "outputs": [],
   "source": []
  }
 ],
 "metadata": {
  "anaconda-cloud": {},
  "kernelspec": {
   "display_name": "Python 3",
   "language": "python",
   "name": "python3"
  },
  "language_info": {
   "codemirror_mode": {
    "name": "ipython",
    "version": 3
   },
   "file_extension": ".py",
   "mimetype": "text/x-python",
   "name": "python",
   "nbconvert_exporter": "python",
   "pygments_lexer": "ipython3",
   "version": "3.5.2"
  },
  "widgets": {
   "state": {},
   "version": "1.1.2"
  }
 },
 "nbformat": 4,
 "nbformat_minor": 1
}
